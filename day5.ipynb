{
  "nbformat": 4,
  "nbformat_minor": 0,
  "metadata": {
    "colab": {
      "provenance": [],
      "authorship_tag": "ABX9TyNCdEnLX3LTTuWOAt1/Xtdq",
      "include_colab_link": true
    },
    "kernelspec": {
      "name": "python3",
      "display_name": "Python 3"
    },
    "language_info": {
      "name": "python"
    }
  },
  "cells": [
    {
      "cell_type": "markdown",
      "metadata": {
        "id": "view-in-github",
        "colab_type": "text"
      },
      "source": [
        "<a href=\"https://colab.research.google.com/github/MoazzemhossainMoazz/Learn-Python-for-Machine-Learning/blob/main/day5.ipynb\" target=\"_parent\"><img src=\"https://colab.research.google.com/assets/colab-badge.svg\" alt=\"Open In Colab\"/></a>"
      ]
    },
    {
      "cell_type": "markdown",
      "source": [
        "## Basic if else statement"
      ],
      "metadata": {
        "id": "FSoRKK4QLHgs"
      }
    },
    {
      "cell_type": "code",
      "execution_count": 1,
      "metadata": {
        "colab": {
          "base_uri": "https://localhost:8080/"
        },
        "id": "D8wfQnbvJyoS",
        "outputId": "fa700a3b-9b09-484e-9032-09e49b424c6e"
      },
      "outputs": [
        {
          "output_type": "stream",
          "name": "stdout",
          "text": [
            "Is it raining\n",
            "Wait a while\n"
          ]
        }
      ],
      "source": [
        "print(\"Is it raining\")\n",
        "if True:\n",
        "  print(\"Wait a while\")\n",
        "if False:\n",
        "  print(\"You can go outside.\")\n"
      ]
    },
    {
      "cell_type": "markdown",
      "source": [
        "## Making the if else program more function"
      ],
      "metadata": {
        "id": "7IMpNrb6LYWE"
      }
    },
    {
      "cell_type": "code",
      "source": [
        "raining = input(\"Is it raining? yes/no: \")\n",
        "if (raining == \"yes\"):\n",
        "  print(\"wait a while. \")\n",
        "if (raining == \"no\"):\n",
        "  print(\"you can go outside\")"
      ],
      "metadata": {
        "colab": {
          "base_uri": "https://localhost:8080/"
        },
        "id": "THSmR_xFLdgK",
        "outputId": "9fb1ae55-1f5d-41f2-c5d1-39872ee3f72a"
      },
      "execution_count": 5,
      "outputs": [
        {
          "output_type": "stream",
          "name": "stdout",
          "text": [
            "Is it raining? yes/no: yes\n",
            "wait a while. \n"
          ]
        }
      ]
    },
    {
      "cell_type": "code",
      "source": [
        "raining = input(\"Is it raining? yes/no: \")\n",
        "if (raining == \"yes\"):\n",
        "  print(\"wait a while\")\n",
        "else:\n",
        "  print(\"you can go outside\")"
      ],
      "metadata": {
        "colab": {
          "base_uri": "https://localhost:8080/"
        },
        "id": "RRzNqKdkMyHj",
        "outputId": "45600d66-3b67-4b8c-8703-c166870742bc"
      },
      "execution_count": 7,
      "outputs": [
        {
          "output_type": "stream",
          "name": "stdout",
          "text": [
            "Is it raining? yes/no: yes\n",
            "wait a while\n"
          ]
        }
      ]
    },
    {
      "cell_type": "markdown",
      "source": [
        "## Nested if else statement"
      ],
      "metadata": {
        "id": "57oF2v3gNVF8"
      }
    },
    {
      "cell_type": "code",
      "source": [
        "raining = input(\"is it raining? yes/no: \")\n",
        "if (raining == \"yes\"):\n",
        "  umbrl = input(\"Do you have umbrella? yes/no: \")\n",
        "  if (umbrl == \"yes\"):\n",
        "    print(\"You can go outside\")\n",
        "  if (umbrl == \"no\"):\n",
        "    still_raining = input(\"Still raining? yes/no: \")\n",
        "    if (still_raining == \"yes\"):\n",
        "      print(\"If it is urgent, go outside.\")\n",
        "    if (still_raining == \"no\"):\n",
        "      print(\"you can go outside.\")\n",
        "else:\n",
        "  print(\"go outside.\")"
      ],
      "metadata": {
        "colab": {
          "base_uri": "https://localhost:8080/"
        },
        "id": "s2KRfHJuNYVY",
        "outputId": "a33b8249-69cc-4a63-969a-7654a45223af"
      },
      "execution_count": 11,
      "outputs": [
        {
          "output_type": "stream",
          "name": "stdout",
          "text": [
            "is it raining? yes/no: yes\n",
            "Do you have umbrella? yes/no: no\n",
            "Still raining? yes/no: yes\n",
            "If it is urgent, go outside.\n"
          ]
        }
      ]
    },
    {
      "cell_type": "markdown",
      "source": [
        "## Similer problem solve"
      ],
      "metadata": {
        "id": "cKt8ZOFPVVu8"
      }
    },
    {
      "cell_type": "code",
      "source": [
        "problem = input(\"Do you have problem? yes/no: \")\n",
        "if (problem == \"no\"):\n",
        "  print(\"Why worry?\")\n",
        "if (problem == \"yes\"):\n",
        "  anxious = input(\"Are you anxious? yes/no: \")\n",
        "  if (anxious == \"yes\"):\n",
        "    solve_problem = input(\"Can you solve the problem? yes/no\")\n",
        "    if (solve_problem == \"yes\"):\n",
        "      print(\"why worried?\")\n",
        "    if (solve_problem == \"no\"):\n",
        "      print(\"The solution is not your hand. why worried?\")\n",
        "  if(anxious == \"no\"):\n",
        "    print(\"You should not be worried.\")"
      ],
      "metadata": {
        "colab": {
          "base_uri": "https://localhost:8080/"
        },
        "id": "EKEnuqaZQFxW",
        "outputId": "f8db3fa6-32cf-4830-907d-29c17477bc36"
      },
      "execution_count": 15,
      "outputs": [
        {
          "output_type": "stream",
          "name": "stdout",
          "text": [
            "Do you have problem? yes/no: yes\n",
            "Are you anxious? yes/no: yes\n",
            "Can you solve the problem? yes/nono\n",
            "The solution is not your hand. why worried.\n"
          ]
        }
      ]
    }
  ]
}