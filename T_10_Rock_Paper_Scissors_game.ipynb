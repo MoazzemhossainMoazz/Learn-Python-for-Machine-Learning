{
  "nbformat": 4,
  "nbformat_minor": 0,
  "metadata": {
    "colab": {
      "provenance": [],
      "authorship_tag": "ABX9TyOmRRWr3OC9za2CvZYUPO4+",
      "include_colab_link": true
    },
    "kernelspec": {
      "name": "python3",
      "display_name": "Python 3"
    },
    "language_info": {
      "name": "python"
    }
  },
  "cells": [
    {
      "cell_type": "markdown",
      "metadata": {
        "id": "view-in-github",
        "colab_type": "text"
      },
      "source": [
        "<a href=\"https://colab.research.google.com/github/MoazzemhossainMoazz/Learn-Python-for-Machine-Learning/blob/main/T_10_Rock_Paper_Scissors_game.ipynb\" target=\"_parent\"><img src=\"https://colab.research.google.com/assets/colab-badge.svg\" alt=\"Open In Colab\"/></a>"
      ]
    },
    {
      "cell_type": "markdown",
      "source": [
        "# A Short Program: Rock, Paper, Scissors"
      ],
      "metadata": {
        "id": "int4Zqa1Ecnu"
      }
    },
    {
      "cell_type": "markdown",
      "source": [
        "## Importing module\n"
      ],
      "metadata": {
        "id": "XCdKB-4uEnc-"
      }
    },
    {
      "cell_type": "code",
      "execution_count": 7,
      "metadata": {
        "colab": {
          "base_uri": "https://localhost:8080/"
        },
        "id": "9Sd8TnkeEbFC",
        "outputId": "9413cb58-3196-4f5b-ab04-fdd4ac976172"
      },
      "outputs": [
        {
          "output_type": "stream",
          "name": "stdout",
          "text": [
            "ROCK, PAPER, SCISSORS\n"
          ]
        }
      ],
      "source": [
        "import random, sys\n",
        "print('ROCK, PAPER, SCISSORS')"
      ]
    },
    {
      "cell_type": "markdown",
      "source": [
        "## Tracking of the number of wins, losses, and ties"
      ],
      "metadata": {
        "id": "_44_CuKGRb_9"
      }
    },
    {
      "cell_type": "code",
      "source": [
        "wins = 0\n",
        "losses = 0\n",
        "ties = 0"
      ],
      "metadata": {
        "id": "vc-FI1vMRou1"
      },
      "execution_count": 8,
      "outputs": []
    },
    {
      "cell_type": "markdown",
      "source": [
        "## The main game loop"
      ],
      "metadata": {
        "id": "2JUcYlJRRvs2"
      }
    },
    {
      "cell_type": "code",
      "source": [
        "while True:\n",
        "  print('%s Wins, %s Losses, %s Ties' % (wins, losses, ties))\n",
        "\n",
        "  while True:\n",
        "    print('Enter your move: (r)ock, (p)aper, (s)cissors, or (q)uit')\n",
        "    playerMove = input()\n",
        "\n",
        "    if playerMove == 'q':\n",
        "      sys.exit()\n",
        "\n",
        "    if playerMove == 'r' or playerMove == 'p' or playerMove == 's':\n",
        "      break\n",
        "\n",
        "    print('Type one of r, p, s, or q')\n",
        "\n",
        "  if playerMove == 'r':\n",
        "    print('ROCK vs...')\n",
        "\n",
        "  elif playerMove == 'p':\n",
        "    print('PAPER vs...')\n",
        "\n",
        "  elif playerMove == 's':\n",
        "    print('SCISSORS vs...')\n",
        "\n",
        "  randomNumber = random.randint(1, 3) \n",
        "\n",
        "  if randomNumber == 1:\n",
        "    computerMove = 'r'\n",
        "    print('Rock')\n",
        "\n",
        "  elif randomNumber == 2:\n",
        "    computerMove = 'p'\n",
        "    print('Paper')\n",
        "\n",
        "  elif randomNumber == 3:\n",
        "    computerMove = 's'\n",
        "    print('Scissors')\n",
        "\n",
        "  if playerMove == computerMove:\n",
        "    print('It is a tie')\n",
        "    ties = ties + 1\n",
        "\n",
        "  elif playerMove == 'r' and computerMove == 's':\n",
        "    print('You win!')\n",
        "    wins = wins + 1\n",
        "\n",
        "  elif playerMove == 'p' and computerMove == 'r':\n",
        "    print('You win!')\n",
        "    wins = wins + 1\n",
        "\n",
        "  elif playerMove == 's' and computerMove == 'p':\n",
        "    print('You win!')\n",
        "    wins = wins + 1\n",
        "\n",
        "  elif playerMove == 'r' and computerMove == 'p':\n",
        "    print('You lose!')\n",
        "    losses = losses + 1\n",
        "\n",
        "  elif playerMove == 'p' and computerMove == 's':\n",
        "    print('You lose!')\n",
        "    losses = losses + 1\n",
        "\n",
        "  elif playerMove == 's' and computerMove == 'r':\n",
        "    print('You lose!')\n",
        "    losses = losses + 1"
      ],
      "metadata": {
        "id": "5RchVLwXR27n"
      },
      "execution_count": null,
      "outputs": []
    },
    {
      "cell_type": "markdown",
      "source": [
        "## Explanetion of the code snippets"
      ],
      "metadata": {
        "id": "quQ7rZy5SmL3"
      }
    },
    {
      "cell_type": "code",
      "source": [
        "print('%s Wins, %s Losses, %s Ties' % (wins, losses, ties))"
      ],
      "metadata": {
        "colab": {
          "base_uri": "https://localhost:8080/"
        },
        "id": "NFREXRg0SrZg",
        "outputId": "ae75a231-0976-444f-dc6a-36adfc605410"
      },
      "execution_count": 10,
      "outputs": [
        {
          "output_type": "stream",
          "name": "stdout",
          "text": [
            "0 Wins, 0 Losses, 0 Ties\n"
          ]
        }
      ]
    },
    {
      "cell_type": "code",
      "source": [
        "print('{} Wins, {} Losses, {} Ties'.format(wins, losses, ties))"
      ],
      "metadata": {
        "colab": {
          "base_uri": "https://localhost:8080/"
        },
        "id": "nRJnhmYaTYpP",
        "outputId": "d0988080-9acd-4abb-ed85-b99168348fd2"
      },
      "execution_count": 11,
      "outputs": [
        {
          "output_type": "stream",
          "name": "stdout",
          "text": [
            "0 Wins, 0 Losses, 0 Ties\n"
          ]
        }
      ]
    },
    {
      "cell_type": "code",
      "source": [
        "while True:\n",
        "  print('Enter your move: (r)ock, (p)aper, (s)cissors, or (q)uit')\n",
        "  playerMove = input()\n",
        "\n",
        "  if playerMove == 'q':\n",
        "    sys.exit()\n",
        "\n",
        "  if playerMove == 'r' or playerMove == 'p' or playerMove == 's':\n",
        "    break\n",
        "\n",
        "  print('Type one of r, p, s, or q')"
      ],
      "metadata": {
        "id": "RO_HvnGXVTim"
      },
      "execution_count": null,
      "outputs": []
    }
  ]
}