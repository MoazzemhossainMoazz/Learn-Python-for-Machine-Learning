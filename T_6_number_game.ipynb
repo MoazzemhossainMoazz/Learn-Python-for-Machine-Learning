{
  "nbformat": 4,
  "nbformat_minor": 0,
  "metadata": {
    "colab": {
      "provenance": [],
      "authorship_tag": "ABX9TyN02/PgiLq2bxTM+aCPbsVc",
      "include_colab_link": true
    },
    "kernelspec": {
      "name": "python3",
      "display_name": "Python 3"
    },
    "language_info": {
      "name": "python"
    }
  },
  "cells": [
    {
      "cell_type": "markdown",
      "metadata": {
        "id": "view-in-github",
        "colab_type": "text"
      },
      "source": [
        "<a href=\"https://colab.research.google.com/github/MoazzemhossainMoazz/Learn-Python-for-Machine-Learning/blob/main/T_6_number_game.ipynb\" target=\"_parent\"><img src=\"https://colab.research.google.com/assets/colab-badge.svg\" alt=\"Open In Colab\"/></a>"
      ]
    },
    {
      "cell_type": "markdown",
      "source": [
        "## This program will ask you to guess a number"
      ],
      "metadata": {
        "id": "SFw_6wYEuzgp"
      }
    },
    {
      "cell_type": "code",
      "execution_count": 3,
      "metadata": {
        "colab": {
          "base_uri": "https://localhost:8080/"
        },
        "id": "bmFTbW5muwwV",
        "outputId": "b51b07a2-24fe-477c-bc12-28a247e8205a"
      },
      "outputs": [
        {
          "output_type": "stream",
          "name": "stdout",
          "text": [
            "7\n"
          ]
        }
      ],
      "source": [
        "import random\n",
        "secretNumber = random.randint(1, 20)\n",
        "print(secretNumber)"
      ]
    },
    {
      "cell_type": "code",
      "source": [
        "for guessesTaken in range(1, 7):\n",
        "  print(\"Hello world!\")"
      ],
      "metadata": {
        "colab": {
          "base_uri": "https://localhost:8080/"
        },
        "id": "QUzLF4Lpv9sR",
        "outputId": "1006e83a-add5-4555-8775-ac9335dc7653"
      },
      "execution_count": 8,
      "outputs": [
        {
          "output_type": "stream",
          "name": "stdout",
          "text": [
            "Hello world!\n",
            "Hello world!\n",
            "Hello world!\n",
            "Hello world!\n",
            "Hello world!\n",
            "Hello world!\n"
          ]
        }
      ]
    },
    {
      "cell_type": "code",
      "source": [
        "for guessesTaken2 in range(1, 7):\n",
        "  print(guessesTaken2)"
      ],
      "metadata": {
        "colab": {
          "base_uri": "https://localhost:8080/"
        },
        "id": "oiqdrnMCwSBp",
        "outputId": "3a2ef5a3-e849-4187-8c1a-4c72ab8e1473"
      },
      "execution_count": 12,
      "outputs": [
        {
          "output_type": "stream",
          "name": "stdout",
          "text": [
            "1\n",
            "2\n",
            "3\n",
            "4\n",
            "5\n",
            "6\n"
          ]
        }
      ]
    },
    {
      "cell_type": "code",
      "source": [
        "import random\n",
        "secreteNumber = random.randint(1, 10)\n",
        "\n",
        "print(\"I am thinking a number between 1 and 20: \")\n",
        "\n",
        "for guessesTaken in range(1, 5):\n",
        "  guess = int(input(\"Take a guess: \"))\n",
        "\n",
        "  if guess > secreteNumber:\n",
        "    print(\"Your number is too high.\")\n",
        "  elif guess < secreteNumber:\n",
        "    print(\"Your number is too low.\")\n",
        "  else:\n",
        "    print(\"Congratulations!!!\")\n",
        "    break\n",
        "\n",
        "if guess == secreteNumber:\n",
        "  print(\"You guessed my number in \" + str(guessesTaken) + \" guesses. \")\n",
        "else:\n",
        "  print(\"Nope! Your are failed to tryed \" + str(guessesTaken) + \" times.\")\n",
        "    \n"
      ],
      "metadata": {
        "colab": {
          "base_uri": "https://localhost:8080/"
        },
        "id": "Ev63AYprxYMa",
        "outputId": "ce263637-a94d-46f9-9a6e-6d16d705b834"
      },
      "execution_count": 30,
      "outputs": [
        {
          "output_type": "stream",
          "name": "stdout",
          "text": [
            "I am thinking a number between 1 and 20: \n",
            "Take a guess: 1\n",
            "Your number is too low.\n",
            "Take a guess: 9\n",
            "Your number is too high.\n",
            "Take a guess: 10\n",
            "Your number is too high.\n",
            "Take a guess: 8\n",
            "Your number is too high.\n",
            "Nope! Your are failed to tryed: 4 times.\n"
          ]
        }
      ]
    }
  ]
}