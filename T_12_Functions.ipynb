{
  "nbformat": 4,
  "nbformat_minor": 0,
  "metadata": {
    "colab": {
      "provenance": [],
      "authorship_tag": "ABX9TyPYVUF23+KKciY8eMEn/Ucp",
      "include_colab_link": true
    },
    "kernelspec": {
      "name": "python3",
      "display_name": "Python 3"
    },
    "language_info": {
      "name": "python"
    }
  },
  "cells": [
    {
      "cell_type": "markdown",
      "metadata": {
        "id": "view-in-github",
        "colab_type": "text"
      },
      "source": [
        "<a href=\"https://colab.research.google.com/github/MoazzemhossainMoazz/Learn-Python-for-Machine-Learning/blob/main/T_12_Functions.ipynb\" target=\"_parent\"><img src=\"https://colab.research.google.com/assets/colab-badge.svg\" alt=\"Open In Colab\"/></a>"
      ]
    },
    {
      "cell_type": "code",
      "execution_count": 1,
      "metadata": {
        "colab": {
          "base_uri": "https://localhost:8080/"
        },
        "id": "ghN7e-kOwFNA",
        "outputId": "49297624-bec1-46be-9b54-50d6e1208f73"
      },
      "outputs": [
        {
          "output_type": "stream",
          "name": "stdout",
          "text": [
            "I am the first sentence I am the second sentence.\n"
          ]
        }
      ],
      "source": [
        "print('I am the first sentence', end = ' ')\n",
        "print('I am the second sentence.')\n",
        "\n"
      ]
    },
    {
      "cell_type": "code",
      "source": [
        "print('Moazz', 'Rakib', 'Shuvo', 'Hossen', sep = ' * ')"
      ],
      "metadata": {
        "colab": {
          "base_uri": "https://localhost:8080/"
        },
        "id": "zlJkDddOwTOF",
        "outputId": "f8b4bb5a-7125-478e-8551-ea789bfdec73"
      },
      "execution_count": 2,
      "outputs": [
        {
          "output_type": "stream",
          "name": "stdout",
          "text": [
            "Moazz * Rakib * Shuvo * Hossen\n"
          ]
        }
      ]
    },
    {
      "cell_type": "markdown",
      "source": [
        "# Understanding the function call stack"
      ],
      "metadata": {
        "id": "67_QWayNw4gq"
      }
    },
    {
      "cell_type": "code",
      "source": [
        "def a():\n",
        "  print('a starts')\n",
        "  b()\n",
        "  d()\n",
        "  print('a ends')\n",
        "\n",
        "def b():\n",
        "  print('b starts')\n",
        "  c()\n",
        "  print('b ends')\n",
        "\n",
        "def c():\n",
        "  print('c starts')\n",
        "  print('c ends')\n",
        "\n",
        "def d():\n",
        "  print('d starts')\n",
        "  print('d ends')"
      ],
      "metadata": {
        "id": "mkOb3ZpDw-QB"
      },
      "execution_count": 5,
      "outputs": []
    }
  ]
}