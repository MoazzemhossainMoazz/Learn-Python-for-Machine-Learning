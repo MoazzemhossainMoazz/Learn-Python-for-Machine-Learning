{
  "nbformat": 4,
  "nbformat_minor": 0,
  "metadata": {
    "colab": {
      "provenance": [],
      "authorship_tag": "ABX9TyPJpfXlKC/69BgQY/3Dzq+e",
      "include_colab_link": true
    },
    "kernelspec": {
      "name": "python3",
      "display_name": "Python 3"
    },
    "language_info": {
      "name": "python"
    }
  },
  "cells": [
    {
      "cell_type": "markdown",
      "metadata": {
        "id": "view-in-github",
        "colab_type": "text"
      },
      "source": [
        "<a href=\"https://colab.research.google.com/github/MoazzemhossainMoazz/Learn-Python-for-Machine-Learning/blob/main/FirstProgram.ipynb\" target=\"_parent\"><img src=\"https://colab.research.google.com/assets/colab-badge.svg\" alt=\"Open In Colab\"/></a>"
      ]
    },
    {
      "cell_type": "markdown",
      "source": [
        "# My first program in google colab"
      ],
      "metadata": {
        "id": "JzOTWiS7QIz_"
      }
    },
    {
      "cell_type": "markdown",
      "source": [
        "## Printing a simple sentence & a question"
      ],
      "metadata": {
        "id": "fyIhNvCbQrxj"
      }
    },
    {
      "cell_type": "code",
      "source": [
        "print(\"Hello, World!\")\n",
        "print(\"What is your name?\")"
      ],
      "metadata": {
        "colab": {
          "base_uri": "https://localhost:8080/"
        },
        "id": "a3H9MGL3Q7U4",
        "outputId": "cb9cbe31-3a40-45ca-a48e-67393f516dfb"
      },
      "execution_count": null,
      "outputs": [
        {
          "output_type": "stream",
          "name": "stdout",
          "text": [
            "Hello, World!\n",
            "What is your name?\n"
          ]
        }
      ]
    },
    {
      "cell_type": "markdown",
      "source": [
        "## Variable & String Concatenation"
      ],
      "metadata": {
        "id": "zT6s645pRm_e"
      }
    },
    {
      "cell_type": "code",
      "source": [
        " name = \"Moazzem Hossain\"\n",
        " age = 50\n",
        " \n",
        " print(\"Hi I am \" + name + \" and I am \" + str(age) + \" years old.\")\n",
        " print(\"I will be \" + str(age) + \" 5 \" + \"afer 5 years.\")\n",
        " print(\"I will be \" + str(age + 5) + \" after 5 years.\")"
      ],
      "metadata": {
        "colab": {
          "base_uri": "https://localhost:8080/"
        },
        "id": "ejqL6rxaRuSZ",
        "outputId": "12340297-c505-4ff9-cd01-97362b63eaba"
      },
      "execution_count": null,
      "outputs": [
        {
          "output_type": "stream",
          "name": "stdout",
          "text": [
            "Hi I am Moazzem Hossain and I am 50 years old.\n",
            "I will be 50 5 afer 5 years.\n",
            "I will be 55 after 5 years.\n"
          ]
        }
      ]
    },
    {
      "cell_type": "code",
      "source": [
        "print(\"Hi, I am {} and I am {} years old.\".format(name, age))\n",
        "print(\"I will be {} after 6 years.\".format(age + 5))"
      ],
      "metadata": {
        "colab": {
          "base_uri": "https://localhost:8080/"
        },
        "id": "gTrVHC96ZWcO",
        "outputId": "4c0a0a7b-5b40-425b-dea1-366860dbc781"
      },
      "execution_count": null,
      "outputs": [
        {
          "output_type": "stream",
          "name": "stdout",
          "text": [
            "Hi, I am Moazzem Hossain and I am 50 years old.\n",
            "I will be 55 after 6 years.\n"
          ]
        }
      ]
    },
    {
      "cell_type": "markdown",
      "source": [
        "## Storing input data ia a variable"
      ],
      "metadata": {
        "id": "w4k8zEc4bdhu"
      }
    },
    {
      "cell_type": "code",
      "source": [
        "myName = input(\"What is your name?\")\n",
        "age = input(\"How old are you?\")\n",
        "\n",
        "print(myName)\n",
        "print(age)\n",
        "\n",
        "print(\"My name is {} and age is {} years old\".format(myName, age))"
      ],
      "metadata": {
        "colab": {
          "base_uri": "https://localhost:8080/"
        },
        "id": "cEIjS7kLS3tU",
        "outputId": "0a527648-507c-4d00-afd6-dc86848ab5e2"
      },
      "execution_count": null,
      "outputs": [
        {
          "output_type": "stream",
          "name": "stdout",
          "text": [
            "What is your name?Mo\n",
            "How old are you?55\n",
            "Mo\n",
            "55\n",
            "My name is Mo and age is 55 years old\n"
          ]
        }
      ]
    }
  ]
}