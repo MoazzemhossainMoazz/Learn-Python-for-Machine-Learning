{
  "nbformat": 4,
  "nbformat_minor": 0,
  "metadata": {
    "colab": {
      "provenance": [],
      "authorship_tag": "ABX9TyPYxzkyCo5ep6PLIKtFFmqz",
      "include_colab_link": true
    },
    "kernelspec": {
      "name": "python3",
      "display_name": "Python 3"
    },
    "language_info": {
      "name": "python"
    }
  },
  "cells": [
    {
      "cell_type": "markdown",
      "metadata": {
        "id": "view-in-github",
        "colab_type": "text"
      },
      "source": [
        "<a href=\"https://colab.research.google.com/github/MoazzemhossainMoazz/Learn-Python-for-Machine-Learning/blob/main/Day4.ipynb\" target=\"_parent\"><img src=\"https://colab.research.google.com/assets/colab-badge.svg\" alt=\"Open In Colab\"/></a>"
      ]
    },
    {
      "cell_type": "markdown",
      "source": [
        "## Exponent Operator\n"
      ],
      "metadata": {
        "id": "wSCzUkdqpP2t"
      }
    },
    {
      "cell_type": "code",
      "source": [
        "2 ** 3"
      ],
      "metadata": {
        "colab": {
          "base_uri": "https://localhost:8080/"
        },
        "id": "PLXRldnyotyR",
        "outputId": "ab61f49e-89ad-4d7b-f506-0229c5aa244d"
      },
      "execution_count": null,
      "outputs": [
        {
          "output_type": "execute_result",
          "data": {
            "text/plain": [
              "8"
            ]
          },
          "metadata": {},
          "execution_count": 1
        }
      ]
    },
    {
      "cell_type": "markdown",
      "source": [
        "## Integer Devision Operator"
      ],
      "metadata": {
        "id": "RNUTMiZdpmbq"
      }
    },
    {
      "cell_type": "code",
      "source": [
        "22 // 8"
      ],
      "metadata": {
        "colab": {
          "base_uri": "https://localhost:8080/"
        },
        "id": "vspEBTMnprj1",
        "outputId": "a9479139-8775-48bb-b839-53c320f3fd85"
      },
      "execution_count": null,
      "outputs": [
        {
          "output_type": "execute_result",
          "data": {
            "text/plain": [
              "2"
            ]
          },
          "metadata": {},
          "execution_count": 2
        }
      ]
    },
    {
      "cell_type": "markdown",
      "source": [
        "## Modulus/Remainder Operator"
      ],
      "metadata": {
        "id": "5eA4m1FhpyWt"
      }
    },
    {
      "cell_type": "code",
      "source": [
        "22 % 8"
      ],
      "metadata": {
        "colab": {
          "base_uri": "https://localhost:8080/"
        },
        "id": "3La-rBUEp6KJ",
        "outputId": "2da5adc6-a995-49ca-b953-d5e757c05ed1"
      },
      "execution_count": null,
      "outputs": [
        {
          "output_type": "execute_result",
          "data": {
            "text/plain": [
              "6"
            ]
          },
          "metadata": {},
          "execution_count": 3
        }
      ]
    },
    {
      "cell_type": "markdown",
      "source": [
        "## Division, Multiplication, Substraction, Addition"
      ],
      "metadata": {
        "id": "zglc_8ayqeHq"
      }
    },
    {
      "cell_type": "code",
      "source": [
        "a = 5\n",
        "b = 10\n",
        "\n",
        "div = b / a\n",
        "mul = b * a\n",
        "sub = b - a\n",
        "add = b + a\n",
        "print(\"Division = \" + str(div) + \", Multiplication \" + str(mul) + \", Substraction = \" + str(sub) + \", Addition = \" + str(add))"
      ],
      "metadata": {
        "colab": {
          "base_uri": "https://localhost:8080/"
        },
        "id": "106uq7Skqlsy",
        "outputId": "a9940ad9-cf4f-4344-c68d-3d9e7ec35184"
      },
      "execution_count": null,
      "outputs": [
        {
          "output_type": "stream",
          "name": "stdout",
          "text": [
            "Division = 2.0, Multiplication 50, Substraction = 5, Addition = 15\n"
          ]
        }
      ]
    },
    {
      "cell_type": "markdown",
      "source": [
        "## Order of Precedence"
      ],
      "metadata": {
        "id": "CX74h6efvILF"
      }
    },
    {
      "cell_type": "code",
      "source": [
        "22 // 8 % 3 * 2 ** 3 / 2 - 4 * 3 + 2 "
      ],
      "metadata": {
        "colab": {
          "base_uri": "https://localhost:8080/"
        },
        "id": "3j--lJMMvMVa",
        "outputId": "c507bdae-e98e-4269-d308-53091f1d2c89"
      },
      "execution_count": null,
      "outputs": [
        {
          "output_type": "execute_result",
          "data": {
            "text/plain": [
              "-2.0"
            ]
          },
          "metadata": {},
          "execution_count": 7
        }
      ]
    },
    {
      "cell_type": "markdown",
      "source": [
        "## String Replications"
      ],
      "metadata": {
        "id": "ItmfttD0BJvf"
      }
    },
    {
      "cell_type": "code",
      "source": [
        "\"Moazz \" * 5"
      ],
      "metadata": {
        "colab": {
          "base_uri": "https://localhost:8080/",
          "height": 36
        },
        "id": "rer8ytiXBS-_",
        "outputId": "5c28f434-25c4-40df-8abb-540cf01f523d"
      },
      "execution_count": null,
      "outputs": [
        {
          "output_type": "execute_result",
          "data": {
            "text/plain": [
              "'Moazz Moazz Moazz Moazz Moazz '"
            ],
            "application/vnd.google.colaboratory.intrinsic+json": {
              "type": "string"
            }
          },
          "metadata": {},
          "execution_count": 8
        }
      ]
    },
    {
      "cell_type": "code",
      "source": [
        "\"119 \" * 10"
      ],
      "metadata": {
        "colab": {
          "base_uri": "https://localhost:8080/",
          "height": 36
        },
        "id": "bPhQzXlzBlUi",
        "outputId": "71e25eaf-8aaf-431e-dceb-c83cddf3dfd0"
      },
      "execution_count": null,
      "outputs": [
        {
          "output_type": "execute_result",
          "data": {
            "text/plain": [
              "'119 119 119 119 119 119 119 119 119 119 '"
            ],
            "application/vnd.google.colaboratory.intrinsic+json": {
              "type": "string"
            }
          },
          "metadata": {},
          "execution_count": 9
        }
      ]
    },
    {
      "cell_type": "markdown",
      "source": [
        "# len() function (How many character in a string to check this function)"
      ],
      "metadata": {
        "id": "wBGQIJMxCOJF"
      }
    },
    {
      "cell_type": "code",
      "source": [
        "len(\"Moazz\") "
      ],
      "metadata": {
        "colab": {
          "base_uri": "https://localhost:8080/"
        },
        "id": "nilnA0ixCTNk",
        "outputId": "af98d2c9-c8c0-49ad-eefc-dc792b1ad56b"
      },
      "execution_count": null,
      "outputs": [
        {
          "output_type": "execute_result",
          "data": {
            "text/plain": [
              "5"
            ]
          },
          "metadata": {},
          "execution_count": 10
        }
      ]
    },
    {
      "cell_type": "markdown",
      "source": [
        "# str() function"
      ],
      "metadata": {
        "id": "SX7LXRe5C15I"
      }
    },
    {
      "cell_type": "code",
      "source": [
        "myName = \"Moazzem Hossain\"\n",
        "Age = 50"
      ],
      "metadata": {
        "id": "1LFYhfoqC4ys"
      },
      "execution_count": null,
      "outputs": []
    },
    {
      "cell_type": "code",
      "source": [
        "print(\"I am \" + myName + \" and I am \" + str(Age) + \" years old.\")"
      ],
      "metadata": {
        "colab": {
          "base_uri": "https://localhost:8080/"
        },
        "id": "uRWh5QTLDRjm",
        "outputId": "8a57f688-eb52-4676-9d19-e87a36a6e53e"
      },
      "execution_count": null,
      "outputs": [
        {
          "output_type": "stream",
          "name": "stdout",
          "text": [
            "I am Moazzem Hossain and I am 50 years old.\n"
          ]
        }
      ]
    },
    {
      "cell_type": "code",
      "source": [
        "myAge = input(\"What is your age?\")\n"
      ],
      "metadata": {
        "colab": {
          "base_uri": "https://localhost:8080/"
        },
        "id": "KV6tG3JpE-oF",
        "outputId": "c2330539-d6cc-428b-cd00-2ca22f82234a"
      },
      "execution_count": null,
      "outputs": [
        {
          "name": "stdout",
          "output_type": "stream",
          "text": [
            "What is your age?5\n"
          ]
        }
      ]
    },
    {
      "cell_type": "code",
      "source": [
        "print(\"You are \" + myAge)"
      ],
      "metadata": {
        "colab": {
          "base_uri": "https://localhost:8080/"
        },
        "id": "wFViO8-BFFVd",
        "outputId": "96ffe01a-3e29-4260-8ae3-44fd1c9ed60b"
      },
      "execution_count": null,
      "outputs": [
        {
          "output_type": "stream",
          "name": "stdout",
          "text": [
            "You are 5\n"
          ]
        }
      ]
    },
    {
      "cell_type": "code",
      "source": [
        "print(\"After 5 years my age is\")\n",
        "print(int(myAge) + 5)"
      ],
      "metadata": {
        "colab": {
          "base_uri": "https://localhost:8080/"
        },
        "id": "Lz58qqb-KDFu",
        "outputId": "ccd2e83c-5d0e-450f-c132-a97cead21cbb"
      },
      "execution_count": null,
      "outputs": [
        {
          "output_type": "stream",
          "name": "stdout",
          "text": [
            "After 5 years my age is\n",
            "10\n"
          ]
        }
      ]
    },
    {
      "cell_type": "code",
      "source": [
        "print(\"After 5 years my age is: \" + str(int(myAge) + 5))"
      ],
      "metadata": {
        "colab": {
          "base_uri": "https://localhost:8080/"
        },
        "id": "6fB9AG_qQeE2",
        "outputId": "9a6e94c0-22fe-450f-af5f-970a89c8b481"
      },
      "execution_count": null,
      "outputs": [
        {
          "output_type": "stream",
          "name": "stdout",
          "text": [
            "After 5 years my age is: 10\n"
          ]
        }
      ]
    },
    {
      "cell_type": "code",
      "source": [
        "ageAdd5 = int(myAge) + 5\n",
        "print(\"After 5 years my age is: \" + str(ageAdd5))"
      ],
      "metadata": {
        "colab": {
          "base_uri": "https://localhost:8080/"
        },
        "id": "yWzsr2H5Q8tt",
        "outputId": "da9bf65f-5c6b-43de-971e-3dff4cdb9137"
      },
      "execution_count": null,
      "outputs": [
        {
          "output_type": "stream",
          "name": "stdout",
          "text": [
            "After 5 years my age is: 10\n"
          ]
        }
      ]
    },
    {
      "cell_type": "markdown",
      "source": [
        "## float() function & int() function\n",
        "\n"
      ],
      "metadata": {
        "id": "YJhBpb_eZoxi"
      }
    },
    {
      "cell_type": "code",
      "source": [
        "pi = 22 / 7\n",
        "print(float(pi))"
      ],
      "metadata": {
        "colab": {
          "base_uri": "https://localhost:8080/"
        },
        "id": "L-QmFsBnZrWE",
        "outputId": "e009cab8-097c-41d6-bdff-0975815ffa4a"
      },
      "execution_count": null,
      "outputs": [
        {
          "output_type": "stream",
          "name": "stdout",
          "text": [
            "3.142857142857143\n"
          ]
        }
      ]
    },
    {
      "cell_type": "code",
      "source": [
        "print(int(pi))"
      ],
      "metadata": {
        "colab": {
          "base_uri": "https://localhost:8080/"
        },
        "id": "zLrY_1nHaWlw",
        "outputId": "0d30a6bc-0d05-4b30-b784-2ed20b01a408"
      },
      "execution_count": null,
      "outputs": [
        {
          "output_type": "stream",
          "name": "stdout",
          "text": [
            "3\n"
          ]
        }
      ]
    }
  ]
}