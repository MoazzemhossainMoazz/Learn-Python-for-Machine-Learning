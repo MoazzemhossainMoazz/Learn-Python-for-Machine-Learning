{
  "nbformat": 4,
  "nbformat_minor": 0,
  "metadata": {
    "colab": {
      "provenance": [],
      "authorship_tag": "ABX9TyMZz2hyLF34PwCsEh8nzTHE",
      "include_colab_link": true
    },
    "kernelspec": {
      "name": "python3",
      "display_name": "Python 3"
    },
    "language_info": {
      "name": "python"
    }
  },
  "cells": [
    {
      "cell_type": "markdown",
      "metadata": {
        "id": "view-in-github",
        "colab_type": "text"
      },
      "source": [
        "<a href=\"https://colab.research.google.com/github/MoazzemhossainMoazz/Learn-Python-for-Machine-Learning/blob/main/T_9_Condition_statement.ipynb\" target=\"_parent\"><img src=\"https://colab.research.google.com/assets/colab-badge.svg\" alt=\"Open In Colab\"/></a>"
      ]
    },
    {
      "cell_type": "code",
      "execution_count": null,
      "metadata": {
        "id": "Hi0we0ESXSl2"
      },
      "outputs": [],
      "source": [
        "name = input('What is your name?')\n",
        "background = input('what is your background? science/arts/commerce')\n",
        "age = int(input('How old are you?'))\n",
        "\n",
        "print('Welcome {}, a {} years old personality from the {} background'.format(name, age, background))\n",
        "\n",
        "if background == 'science' and age < 25:\n",
        "  print('You are a young scientist. What is your aim when you will cross 25?')\n",
        "\n",
        "elif background == 'science' and (age >= 25 and age < 30):\n",
        "  print('You are a growing scientist. what is your aim when you will cross 30?')\n",
        "\n",
        "elif background == 'science' and age >= 30:\n",
        "  print('You ar a mature scientist. what is your future goal?')\n",
        "\n",
        "# For Arts...........\n",
        "\n",
        "elif background == 'arts' and age < 25:\n",
        "  print('You are a young philosopher. What is your aim when you will cross 25?')\n",
        "\n",
        "elif background == 'arts' and (age >= 25 and age < 30):\n",
        "  print('You are a growing philosopher. what is your aim when you will cross 30?')\n",
        "\n",
        "elif background == 'arts' and age >= 30:\n",
        "  print('You ar a mature philosopher. what is your future goal?')\n",
        "\n",
        "# For commmerce...............\n",
        "\n",
        "elif background == 'commerce' and age < 25:\n",
        "  print('You are a young business icon. What is your aim when you will cross 25?')\n",
        "\n",
        "elif background == 'commerce' and (age >= 25 and age < 30):\n",
        "  print('You are a growing business icon. what is your aim when you will cross 30?')\n",
        "\n",
        "elif background == 'commerce' and age >= 30:\n",
        "  print('You ar a mature business icon. what is your future goal?')"
      ]
    },
    {
      "cell_type": "code",
      "source": [
        "name = input('What is your name?')\n",
        "background = input('what is your background? science/arts/commerce')\n",
        "age = int(input('How old are you?'))\n",
        "\n",
        "print('Welcome {}, a {} years old personality from the {} background'.format(name, age, background))\n",
        "\n",
        "if background == 'science':\n",
        "\n",
        "  if age < 25:\n",
        "    print('You are a young scientist. What is your aim when you will cross 25?')\n",
        "\n",
        "  elif (age >= 25 and age < 30):\n",
        "    print('You are a growing scientist. what is your aim when you will cross 30?')\n",
        "\n",
        "  elif age >= 30:\n",
        "    print('You ar a mature scientist. what is your future goal?')\n",
        "\n",
        "# For Arts...........\n",
        "\n",
        "if background == 'arts':\n",
        "\n",
        "  if age < 25:\n",
        "    print('You are a young philosopher. What is your aim when you will cross 25?')\n",
        "\n",
        "  elif (age >= 25 and age < 30):\n",
        "    print('You are a growing philosopher. what is your aim when you will cross 30?')\n",
        "\n",
        "  elif age >= 30:\n",
        "    print('You ar a mature philosopher. what is your future goal?')\n",
        "\n",
        "# For commmerce...............\n",
        "\n",
        "if background == 'commerce':\n",
        "\n",
        "  if  age < 25:\n",
        "    print('You are a young business icon. What is your aim when you will cross 25?')\n",
        "\n",
        "  elif (age >= 25 and age < 30):\n",
        "    print('You are a growing business icon. what is your aim when you will cross 30?')\n",
        "\n",
        "  elif age >= 30:\n",
        "    print('You ar a mature business icon. what is your future goal?')"
      ],
      "metadata": {
        "colab": {
          "base_uri": "https://localhost:8080/"
        },
        "id": "LdrKIxC-Aaqh",
        "outputId": "e3555d9b-8833-45b4-e674-61a5bcadaf32"
      },
      "execution_count": 4,
      "outputs": [
        {
          "output_type": "stream",
          "name": "stdout",
          "text": [
            "What is your name?ma\n",
            "what is your background? science/arts/commercearts\n",
            "How old are you?55\n",
            "Welcome ma, a 55 years old personality from the arts background\n",
            "You ar a mature philosopher. what is your future goal?\n"
          ]
        }
      ]
    }
  ]
}