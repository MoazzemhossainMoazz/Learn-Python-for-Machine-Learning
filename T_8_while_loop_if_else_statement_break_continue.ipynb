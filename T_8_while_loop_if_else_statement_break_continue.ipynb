{
  "nbformat": 4,
  "nbformat_minor": 0,
  "metadata": {
    "colab": {
      "provenance": [],
      "authorship_tag": "ABX9TyPZDZPH3bORtMNPFqhdb7d9",
      "include_colab_link": true
    },
    "kernelspec": {
      "name": "python3",
      "display_name": "Python 3"
    },
    "language_info": {
      "name": "python"
    }
  },
  "cells": [
    {
      "cell_type": "markdown",
      "metadata": {
        "id": "view-in-github",
        "colab_type": "text"
      },
      "source": [
        "<a href=\"https://colab.research.google.com/github/MoazzemhossainMoazz/Learn-Python-for-Machine-Learning/blob/main/T_8_while_loop_if_else_statement_break_continue.ipynb\" target=\"_parent\"><img src=\"https://colab.research.google.com/assets/colab-badge.svg\" alt=\"Open In Colab\"/></a>"
      ]
    },
    {
      "cell_type": "markdown",
      "source": [
        "## Block-1"
      ],
      "metadata": {
        "id": "Ng6e7eE__X7m"
      }
    },
    {
      "cell_type": "code",
      "execution_count": 6,
      "metadata": {
        "colab": {
          "base_uri": "https://localhost:8080/"
        },
        "id": "NFO5ob3f664p",
        "outputId": "74ac3e6c-2c3e-42c6-9f0a-9c5a27b19384"
      },
      "outputs": [
        {
          "name": "stdout",
          "output_type": "stream",
          "text": [
            "Type your name.\n",
            "mow\n",
            "Type your name.\n",
            "hi\n",
            "Type your name.\n",
            "your name\n"
          ]
        }
      ],
      "source": [
        "capital = 'Dhaka'\n",
        "while capital == 'Dhaka':\n",
        "  print('Type your name.')\n",
        "  name = input()\n",
        "  if name == 'your name':\n",
        "    break"
      ]
    },
    {
      "cell_type": "markdown",
      "source": [
        "## Block-2"
      ],
      "metadata": {
        "id": "7VplkyTw_QlA"
      }
    },
    {
      "cell_type": "code",
      "source": [
        "while True:\n",
        "  print(\"Type your name.\")\n",
        "  name = input()\n",
        "  if name == 'your name':\n",
        "    break"
      ],
      "metadata": {
        "colab": {
          "base_uri": "https://localhost:8080/"
        },
        "id": "U16kUFON_nFi",
        "outputId": "004f36eb-b4ad-42db-eefa-0866d02d6c5f"
      },
      "execution_count": 8,
      "outputs": [
        {
          "name": "stdout",
          "output_type": "stream",
          "text": [
            "Type your name.\n",
            "moaz\n",
            "Type your name.\n",
            "hi\n",
            "Type your name.\n",
            "your name\n"
          ]
        }
      ]
    },
    {
      "cell_type": "code",
      "source": [
        "while True:\n",
        "  print('What is your name?')\n",
        "  name = input()\n",
        "  \n",
        "  if name != 'Moazz':\n",
        "    continue\n",
        "  print('Hello Moazz')"
      ],
      "metadata": {
        "id": "i9IYcQSpELwg"
      },
      "execution_count": null,
      "outputs": []
    },
    {
      "cell_type": "code",
      "source": [
        "while True:\n",
        "  print('What is your name?')\n",
        "  name = input()\n",
        "\n",
        "  if name != 'Moazz':\n",
        "    continue\n",
        "  print('Hello, Moazz. Now give your password.')\n",
        "  password = input()\n",
        "\n",
        "  if password == 'Moazzh':\n",
        "    print(\"Access granted.\")\n",
        "    break\n",
        "  print(\"Access denied\")"
      ],
      "metadata": {
        "id": "GAuVLsNKGe3F"
      },
      "execution_count": null,
      "outputs": []
    },
    {
      "cell_type": "code",
      "source": [
        "name = input(\"What is your name?\")\n",
        "background = input(\"What is your background? science/arts/commerce: \")\n",
        "age = int(input(\"How old are you?\"))\n",
        "\n",
        "if (background == 'science') and (age <= 25):\n",
        "  print(\"Hi {}, the scientist!!\".format(name))\n",
        "  print(\"You are a young scientist.\")\n",
        "\n",
        "elif (background == 'arts') and (age <= 25):\n",
        "  print(\"hi {}, the philosopher.\")\n",
        "  print(\"you are a young philosopher.\")\n",
        "\n",
        "elif (background == 'commerce') and (age <= 25):\n",
        "  print(\"hi {}, the business icon\")\n",
        "  print(\"you are a young business icon\")\n",
        "\n",
        "elif (background == 'science') and (age > 25):\n",
        "  print(\"Hi {}, the scientist!!\".format(name))\n",
        "  print(\"You are a growing scientist.\")\n",
        "\n",
        "elif (background == 'arts') and (age > 25):\n",
        "  print(\"hi {}, the philosopher.\")\n",
        "  print(\"you are a growing philosopher.\")\n",
        "\n",
        "elif (background == 'commerce') and (age > 25):\n",
        "  print(\"hi {}, the business icon\")\n",
        "  print(\"you are a growing business icon\")"
      ],
      "metadata": {
        "colab": {
          "base_uri": "https://localhost:8080/"
        },
        "id": "VKGSNdzQPEcO",
        "outputId": "988735e9-0dd4-4773-f8d2-1db6c6d6e038"
      },
      "execution_count": 14,
      "outputs": [
        {
          "output_type": "stream",
          "name": "stdout",
          "text": [
            "What is your name?moaz\n",
            "What is your background? science/arts/commerce: science\n",
            "How old are you?26\n",
            "Hi moaz, the scientist!!\n",
            "You are a growing scientist.\n"
          ]
        }
      ]
    }
  ]
}