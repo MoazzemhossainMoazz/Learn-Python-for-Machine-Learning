{
 "cells": [
  {
   "cell_type": "markdown",
   "id": "feec624a",
   "metadata": {},
   "source": [
    "<h1 style=\"color:blue;\">Getting Familiar with Jupyter Notebook<h1>"
   ]
  },
  {
   "cell_type": "markdown",
   "id": "4c1c7b2e",
   "metadata": {},
   "source": [
    "## How to run Python code from Jupyter Notebook"
   ]
  },
  {
   "cell_type": "code",
   "execution_count": 10,
   "id": "29dbd775",
   "metadata": {},
   "outputs": [
    {
     "name": "stdout",
     "output_type": "stream",
     "text": [
      "Hello world\n"
     ]
    }
   ],
   "source": [
    "print(\"Hello world\")"
   ]
  },
  {
   "cell_type": "code",
   "execution_count": 11,
   "id": "4d806ab3",
   "metadata": {},
   "outputs": [
    {
     "name": "stdout",
     "output_type": "stream",
     "text": [
      "Moazzem Hossain\n"
     ]
    }
   ],
   "source": [
    "my_name = \"Moazzem Hossain\"\n",
    "print(my_name)"
   ]
  },
  {
   "cell_type": "code",
   "execution_count": 12,
   "id": "0e69cca9",
   "metadata": {},
   "outputs": [],
   "source": [
    "my_name = \"NBICT LAB\""
   ]
  },
  {
   "cell_type": "code",
   "execution_count": 13,
   "id": "ff0156f6",
   "metadata": {},
   "outputs": [
    {
     "name": "stdout",
     "output_type": "stream",
     "text": [
      "NBICT LAB\n"
     ]
    }
   ],
   "source": [
    "print(my_name)"
   ]
  },
  {
   "cell_type": "code",
   "execution_count": 14,
   "id": "c3be7bde",
   "metadata": {},
   "outputs": [],
   "source": [
    "first_name = \"Moazzem\""
   ]
  },
  {
   "cell_type": "code",
   "execution_count": 15,
   "id": "8bbf106c",
   "metadata": {},
   "outputs": [],
   "source": [
    "last_name = \"Hossain\""
   ]
  },
  {
   "cell_type": "code",
   "execution_count": 16,
   "id": "7c3ecaab",
   "metadata": {},
   "outputs": [],
   "source": [
    "name = first_name + last_name"
   ]
  },
  {
   "cell_type": "code",
   "execution_count": 17,
   "id": "43f335b8",
   "metadata": {},
   "outputs": [
    {
     "name": "stdout",
     "output_type": "stream",
     "text": [
      "MoazzemHossain\n"
     ]
    }
   ],
   "source": [
    "print(name)"
   ]
  }
 ],
 "metadata": {
  "kernelspec": {
   "display_name": "Python 3 (ipykernel)",
   "language": "python",
   "name": "python3"
  },
  "language_info": {
   "codemirror_mode": {
    "name": "ipython",
    "version": 3
   },
   "file_extension": ".py",
   "mimetype": "text/x-python",
   "name": "python",
   "nbconvert_exporter": "python",
   "pygments_lexer": "ipython3",
   "version": "3.10.9"
  }
 },
 "nbformat": 4,
 "nbformat_minor": 5
}
